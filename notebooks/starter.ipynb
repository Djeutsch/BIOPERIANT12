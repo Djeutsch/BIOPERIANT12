{
 "cells": [
  {
   "cell_type": "markdown",
   "id": "2ed93acc-7265-488f-87f6-add5bd69e5d9",
   "metadata": {},
   "source": [
    "----\n",
    "<h1>\n",
    "    <center>\n",
    "        Starter Notebook for BIOPERIANT12 Ocean Model Data Preprocessing\n",
    "    </center>\n",
    "</h1>\n",
    "\n",
    "----\n",
    "\n",
    "\n",
    "\n",
    "\n",
    "\n",
    "## Software requirements\n",
    "\n",
    "\n",
    "\n",
    "### Required rackages\n",
    "\n",
    "Let's import the modules - packages - we will use in this project."
   ]
  },
  {
   "cell_type": "code",
   "execution_count": null,
   "id": "83d0b50c-045f-400e-ae1d-d4fda8c65cb8",
   "metadata": {},
   "outputs": [],
   "source": []
  },
  {
   "cell_type": "code",
   "execution_count": null,
   "id": "5a352512-746c-4ff2-9b55-ec3dea4c63da",
   "metadata": {},
   "outputs": [],
   "source": []
  },
  {
   "cell_type": "code",
   "execution_count": null,
   "id": "33e1b9d7-6545-41e3-bde6-66e130e01270",
   "metadata": {},
   "outputs": [],
   "source": []
  },
  {
   "cell_type": "code",
   "execution_count": null,
   "id": "b8fd0135-ea0b-4002-9a83-bdb03a8c5834",
   "metadata": {},
   "outputs": [],
   "source": []
  }
 ],
 "metadata": {
  "kernelspec": {
   "display_name": "Analytics",
   "language": "python",
   "name": "analytics"
  },
  "language_info": {
   "codemirror_mode": {
    "name": "ipython",
    "version": 3
   },
   "file_extension": ".py",
   "mimetype": "text/x-python",
   "name": "python",
   "nbconvert_exporter": "python",
   "pygments_lexer": "ipython3",
   "version": "3.9.13"
  }
 },
 "nbformat": 4,
 "nbformat_minor": 5
}
